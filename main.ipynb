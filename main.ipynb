{
 "cells": [
  {
   "cell_type": "markdown",
   "metadata": {},
   "source": [
    "## Red de Transporte: Ejemplos de implementación.\n",
    "Este *notebook* contiene una serie de ejemplos prácticos para poner a prueba la clase Grafo en el contexto de optimización de redes de transporte entre ciudades. El problema se aborda modelando un grafo donde cada nodo representa una ciudad y las aristas las conexiones entre ellas, cada una con su respectivo peso llamado la distancia entre ellas.\n",
    "\n",
    "La **clase Grafo** proporciona múltiples métodos para la resolución del ejercicio, como la capacidad de agregar ciudades; establecer conexiones entre ellas con sus respectiva distancia; y encontrar la ruta más corta entre dos ciudades mediante el algoritmo de Dijkstra. Además, se implementa una clase separada para integrar un Árbol de Búsqueda Binario (BST) que mantiene un registro ordenado de distancias. Por último, se calcula un Árbol de Recubrimiento Mínimo (MST) utilizando el algoritmo de Kruskal.\n",
    "\n",
    "Cada ejemplo presentado aborda todas estas funcionalidades, brindando una comprensión clara y práctica de su aplicación en diferentes contextos.\n",
    "\n"
   ]
  },
  {
   "cell_type": "markdown",
   "metadata": {},
   "source": [
    "**<ins>Importación de clases: Ciudad y Grafo</ins>**"
   ]
  },
  {
   "cell_type": "code",
   "execution_count": 8,
   "metadata": {},
   "outputs": [],
   "source": [
    "from modulos.classGrafo import Ciudad, Grafo"
   ]
  },
  {
   "cell_type": "markdown",
   "metadata": {},
   "source": [
    "## Ejemplo 1."
   ]
  },
  {
   "cell_type": "markdown",
   "metadata": {},
   "source": [
    "La instancia del objeto Grafo se realiza con `g = Grafo()`. Esto crea un grafo vacío y lo asigna a la variable `g`, que será la instancia que utilizaremos para agregar ciudades y conexiones."
   ]
  },
  {
   "cell_type": "markdown",
   "metadata": {},
   "source": [
    "### Creación del grafo."
   ]
  },
  {
   "cell_type": "code",
   "execution_count": 9,
   "metadata": {},
   "outputs": [],
   "source": [
    "g = Grafo()"
   ]
  },
  {
   "cell_type": "markdown",
   "metadata": {},
   "source": [
    "Creamos nuestro siguiente grafo:\n",
    "- Ciudades: A, B, C, D, E.\n",
    "- La lista `conexiones_pesos` almacena las conexiones con sus respectivos pesos, es decir, distancias. Cada tupla dentro de esta lista representa la conexión entre dos ciudades de la siguiente manera: inicio, destino, distancia."
   ]
  },
  {
   "cell_type": "code",
   "execution_count": 10,
   "metadata": {},
   "outputs": [],
   "source": [
    "for letra in map(chr, range(65,70)):\n",
    "    g.agregar_ciudad(Ciudad(letra))\n",
    "\n",
    "conexiones_pesos = [\n",
    "    ('E', 'C', 2),\n",
    "    ('E', 'D', 3),\n",
    "    ('C', 'A', 1),\n",
    "    ('C', 'E', 4),\n",
    "    ('D', 'A', 2),\n",
    "    ('D', 'B', 1),\n",
    "    ('D', 'E', 3),\n",
    "    ('A', 'B', 5),\n",
    "    ('A', 'C', 2),\n",
    "    ('A', 'D', 4),\n",
    "    ('B', 'A', 1),\n",
    "    ('B', 'D', 3)\n",
    "]\n",
    "\n",
    "for conexion in conexiones_pesos:\n",
    "    g.agregar_conexion(*conexion)"
   ]
  },
  {
   "cell_type": "markdown",
   "metadata": {},
   "source": [
    "Finalmente, visualizaremos todas las conexiones entre las ciudades agregadas al grafo, permitiéndonos comprender cómo se han establecido las relaciones entre ellas."
   ]
  },
  {
   "cell_type": "code",
   "execution_count": 11,
   "metadata": {},
   "outputs": [
    {
     "name": "stdout",
     "output_type": "stream",
     "text": [
      "A -> {'C': 2, 'D': 4, 'B': 1}\n",
      "B -> {'D': 3, 'A': 1}\n",
      "C -> {'E': 4, 'A': 2}\n",
      "D -> {'E': 3, 'A': 4, 'B': 3}\n",
      "E -> {'C': 4, 'D': 3}\n"
     ]
    }
   ],
   "source": [
    "g.imprimir_grafo()"
   ]
  },
  {
   "cell_type": "markdown",
   "metadata": {},
   "source": [
    "### Obtención de la ruta más corta."
   ]
  },
  {
   "cell_type": "code",
   "execution_count": 12,
   "metadata": {},
   "outputs": [
    {
     "name": "stdout",
     "output_type": "stream",
     "text": [
      "La distancia minima entre A y E es 6\n",
      "\n"
     ]
    }
   ],
   "source": [
    "inicio = 'A'\n",
    "destino = 'E'\n",
    "distancia_minima = g.dijkstra(inicio, destino)\n",
    "print(f\"La distancia minima entre {inicio} y {destino} es {distancia_minima}\\n\")"
   ]
  },
  {
   "cell_type": "markdown",
   "metadata": {},
   "source": [
    "### Integración de BST"
   ]
  },
  {
   "cell_type": "code",
   "execution_count": 13,
   "metadata": {},
   "outputs": [
    {
     "name": "stdout",
     "output_type": "stream",
     "text": [
      "Distancia 1 entre C y A\n",
      "Distancia 2 entre E y C\n",
      "Distancia 3 entre E y D\n",
      "Distancia 4 entre C y E\n",
      "Distancia 5 entre A y B\n"
     ]
    }
   ],
   "source": [
    "registro = g.mostrar_registro_ordenado()\n",
    "for distancia, ciudad1, ciudad2 in registro:\n",
    "    print(f'Distancia {distancia} entre {ciudad1} y {ciudad2}')"
   ]
  },
  {
   "cell_type": "markdown",
   "metadata": {},
   "source": [
    "### Implementación de Kruskal para MST."
   ]
  },
  {
   "cell_type": "code",
   "execution_count": 14,
   "metadata": {},
   "outputs": [
    {
     "name": "stdout",
     "output_type": "stream",
     "text": [
      "Aristas en el MST:\n",
      "C - A: 1\n",
      "D - B: 1\n",
      "B - A: 1\n",
      "E - C: 2\n",
      "Minimum Spanning Tree: 5\n"
     ]
    }
   ],
   "source": [
    "g.KruskalMST()"
   ]
  },
  {
   "cell_type": "markdown",
   "metadata": {},
   "source": [
    "## Ejemplo 2."
   ]
  },
  {
   "cell_type": "markdown",
   "metadata": {},
   "source": [
    "## Ejemplo 3."
   ]
  }
 ],
 "metadata": {
  "kernelspec": {
   "display_name": "Python 3",
   "language": "python",
   "name": "python3"
  },
  "language_info": {
   "codemirror_mode": {
    "name": "ipython",
    "version": 3
   },
   "file_extension": ".py",
   "mimetype": "text/x-python",
   "name": "python",
   "nbconvert_exporter": "python",
   "pygments_lexer": "ipython3",
   "version": "3.10.7"
  }
 },
 "nbformat": 4,
 "nbformat_minor": 2
}
